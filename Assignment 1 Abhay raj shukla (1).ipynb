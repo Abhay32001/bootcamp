{
 "cells": [
  {
   "cell_type": "markdown",
   "id": "111ca0d6",
   "metadata": {},
   "source": [
    "# 1. Convert a string to a zigzag pattern on a given number of rows and then read it row by row.\n",
    "   - Input: s = \"PAYPALISHIRING\", numRows = 3\n",
    "   \n"
   ]
  },
  {
   "cell_type": "code",
   "execution_count": 3,
   "id": "956996b3",
   "metadata": {},
   "outputs": [
    {
     "name": "stdout",
     "output_type": "stream",
     "text": [
      "PAHNAPLSIIGYIR\n"
     ]
    }
   ],
   "source": [
    "def convert(s, numRows):\n",
    "\n",
    "    if numRows == 1:\n",
    "        return s  \n",
    "    cycleLength = 2 * numRows - 2\n",
    "\n",
    "    result = [\"\"] * numRows\n",
    "\n",
    "    for i in range(len(s)):\n",
    "        row = i % cycleLength\n",
    "        row = min(row, cycleLength - row)\n",
    "\n",
    "        result[row] += s[i]\n",
    "\n",
    "    return \"\".join(result)\n",
    "\n",
    "s = \"PAYPALISHIRING\"\n",
    "numRows = 3\n",
    "zigzagString = convert(s, numRows)\n",
    "print(zigzagString)  "
   ]
  },
  {
   "cell_type": "markdown",
   "id": "dfc52bbb",
   "metadata": {},
   "source": [
    "# 2. Implement a method to perform basic string compression using the counts of repeated characters.\n",
    "   - Input: \"aabcccccaaa\"\n"
   ]
  },
  {
   "cell_type": "code",
   "execution_count": 5,
   "id": "0902b8c9",
   "metadata": {},
   "outputs": [
    {
     "name": "stdout",
     "output_type": "stream",
     "text": [
      "a2b1c5a3\n"
     ]
    }
   ],
   "source": [
    "def compress_string(s):\n",
    "\n",
    "  if len(s) == 0:\n",
    "    return s\n",
    "\n",
    "  compressed_str = \"\"\n",
    "  count = 1\n",
    "\n",
    "  for i in range(1, len(s)):\n",
    "    if s[i] == s[i-1]:\n",
    "      count += 1\n",
    "    else:\n",
    "      compressed_str += s[i-1] + str(count)\n",
    "      count = 1\n",
    "\n",
    "  compressed_str += s[-1] + str(count)\n",
    "\n",
    "  return compressed_str if len(compressed_str) < len(s) else s\n",
    "\n",
    "\n",
    "s = \"aabcccccaaa\"\n",
    "compressed_string = compress_string(s)\n",
    "print(compressed_string)  "
   ]
  },
  {
   "cell_type": "markdown",
   "id": "7aac6b41",
   "metadata": {},
   "source": [
    "# 3. Write a function that generates all possible permutations of a given string.\n",
    "   - Input: \"ABC\"\n"
   ]
  },
  {
   "cell_type": "code",
   "execution_count": 25,
   "id": "132d88ff",
   "metadata": {},
   "outputs": [
    {
     "name": "stdout",
     "output_type": "stream",
     "text": [
      "['ABC', 'ACB', 'BAC', 'BCA', 'CAB', 'CBA']\n"
     ]
    }
   ],
   "source": [
    "def permute(s):\n",
    "\n",
    "  if len(s) == 0:\n",
    "    return [\"\"]\n",
    "\n",
    "  result = []\n",
    "  for i in range(len(s)):\n",
    "\n",
    "    fixed_char = s[i]\n",
    "    remaining_chars = s[:i] + s[i+1:]\n",
    "    \n",
    "    sub_permutations = permute(remaining_chars)\n",
    "\n",
    "    for sub_perm in sub_permutations:\n",
    "      result.append(fixed_char + sub_perm)\n",
    "\n",
    "  return result\n",
    "\n",
    "s = \"ABC\"\n",
    "permutations = permute(s)\n",
    "print(permutations)"
   ]
  },
  {
   "cell_type": "markdown",
   "id": "bd0402ac",
   "metadata": {},
   "source": [
    "# 4. Given an array of strings, group anagrams together.\n",
    "   - Input: [\"eat\", \"tea\", \"tan\", \"ate\", \"nat\", \"bat\"]\n"
   ]
  },
  {
   "cell_type": "code",
   "execution_count": 10,
   "id": "60760276",
   "metadata": {},
   "outputs": [
    {
     "name": "stdout",
     "output_type": "stream",
     "text": [
      "[['eat', 'tea', 'ate'], ['tan', 'nat'], ['bat']]\n"
     ]
    }
   ],
   "source": [
    "from collections import defaultdict\n",
    "\n",
    "def group_anagrams(strs):\n",
    "  \n",
    "\n",
    "  anagrams = defaultdict(list)\n",
    "\n",
    "  for s in strs:\n",
    "    \n",
    "    sorted_s = ''.join(sorted(s))\n",
    "    anagrams[sorted_s].append(s)\n",
    "\n",
    "  return list(anagrams.values())\n",
    "\n",
    "\n",
    "strs = [\"eat\", \"tea\", \"tan\", \"ate\", \"nat\", \"bat\"]\n",
    "grouped_anagrams = group_anagrams(strs)\n",
    "print(grouped_anagrams)"
   ]
  },
  {
   "cell_type": "markdown",
   "id": "e96ac623",
   "metadata": {},
   "source": [
    "# 5. Write a function to multiply two large numbers represented as strings.\n",
    "   - Input: num1 = \"123\", num2 = \"456\"\n"
   ]
  },
  {
   "cell_type": "code",
   "execution_count": 27,
   "id": "4b5ab1c3",
   "metadata": {},
   "outputs": [
    {
     "name": "stdout",
     "output_type": "stream",
     "text": [
      "4151088\n"
     ]
    }
   ],
   "source": [
    "def multiply_large_numbers(num1, num2):\n",
    "\n",
    "  result = [0] * (len(num1) + len(num2))\n",
    "  carry = 0\n",
    "\n",
    "  for i in range(len(num1) - 1, -1, -1):\n",
    "    for j in range(len(num2) - 1, -1, -1):\n",
    "      product = int(num1[i]) * int(num2[j]) + carry\n",
    "      result[i + j + 1] += product % 10\n",
    "      carry = product // 10\n",
    "\n",
    "    result[i] += carry\n",
    "    carry = 0\n",
    "\n",
    "  \n",
    "  i = 0\n",
    "  while i < len(result) and result[i] == 0:\n",
    "    i += 1\n",
    "\n",
    "  result = result[i:]\n",
    "  return \"\".join(map(str, result))\n",
    "\n",
    "\n",
    "num1 = \"123\"\n",
    "num2 = \"456\"\n",
    "product = multiply_large_numbers(num1, num2)\n",
    "print(product)  "
   ]
  },
  {
   "cell_type": "markdown",
   "id": "72f7f82d",
   "metadata": {},
   "source": [
    "# 6. Given two strings, check if one is a rotation of the other using only one call to a string method.\n",
    "   - Input: str1 = \"ABCD\", str2 = \"DABC\"\n"
   ]
  },
  {
   "cell_type": "code",
   "execution_count": 28,
   "id": "218f016d",
   "metadata": {},
   "outputs": [
    {
     "name": "stdout",
     "output_type": "stream",
     "text": [
      "True\n"
     ]
    }
   ],
   "source": [
    "def is_rotation(str1, str2):\n",
    "  \n",
    "\n",
    "  return len(str1) == len(str2) and str1 in (str2 + str2)\n",
    "\n",
    "\n",
    "str1 = \"ABCD\"\n",
    "str2 = \"DABC\"\n",
    "result = is_rotation(str1, str2)\n",
    "print(result)  "
   ]
  },
  {
   "cell_type": "markdown",
   "id": "bb1a4321",
   "metadata": {},
   "source": [
    "# 7. Given a string containing just the characters (, ), {, }, [, and ], determine if the input string is valid.\n",
    "   - Input: \"()[]{}\"\n"
   ]
  },
  {
   "cell_type": "code",
   "execution_count": 29,
   "id": "6ffdd3a8",
   "metadata": {},
   "outputs": [
    {
     "name": "stdout",
     "output_type": "stream",
     "text": [
      "True\n"
     ]
    }
   ],
   "source": [
    "def is_valid_parentheses(s):\n",
    "  \n",
    "\n",
    "  stack = []\n",
    "  mapping = {')': '(', '}': '{', ']': '['}\n",
    "\n",
    "  for char in s:\n",
    "    if char in mapping:\n",
    "      \n",
    "      if not stack or stack.pop() != mapping[char]:\n",
    "        return False\n",
    "    else:\n",
    "      \n",
    "      stack.append(char)\n",
    "\n",
    "  return not stack\n",
    "\n",
    "\n",
    "s = \"()[]{}\"\n",
    "result = is_valid_parentheses(s)\n",
    "print(result)  "
   ]
  },
  {
   "cell_type": "markdown",
   "id": "73c74f06",
   "metadata": {},
   "source": [
    "# 8. Implement the function atoi which converts a string to an integer.\n",
    "   - Input: \"4193 with words\"\n"
   ]
  },
  {
   "cell_type": "code",
   "execution_count": 30,
   "id": "30aad2bd",
   "metadata": {},
   "outputs": [
    {
     "name": "stdout",
     "output_type": "stream",
     "text": [
      "4193\n"
     ]
    }
   ],
   "source": [
    "def atoi(s):\n",
    "\n",
    "  sign = 1\n",
    "  result = 0\n",
    "  i = 0\n",
    "\n",
    "  \n",
    "  while i < len(s) and s[i] == ' ':\n",
    "    i += 1\n",
    "\n",
    "  \n",
    "  if i < len(s) and s[i] in ['+', '-']:\n",
    "    if s[i] == '-':\n",
    "      sign = -1\n",
    "    i += 1\n",
    "\n",
    "  \n",
    "  while i < len(s) and s[i].isdigit():\n",
    "    result = result * 10 + int(s[i])\n",
    "    i += 1\n",
    "\n",
    "  if result > 2**31 - 1 or result < -2**31:\n",
    "    result = 0\n",
    "\n",
    "  return result * sign\n",
    "\n",
    "\n",
    "s = \"4193 with words\"\n",
    "integer_value = atoi(s)\n",
    "print(integer_value)  "
   ]
  },
  {
   "cell_type": "markdown",
   "id": "2ff1e974",
   "metadata": {},
   "source": [
    "# 9. Write a function that generates the nth term of the \"count and say\" sequence.\n",
    "   - Input: n = 4\n"
   ]
  },
  {
   "cell_type": "code",
   "execution_count": 31,
   "id": "9fd7fe66",
   "metadata": {},
   "outputs": [
    {
     "name": "stdout",
     "output_type": "stream",
     "text": [
      "1211\n"
     ]
    }
   ],
   "source": [
    "def countAndSay(n):\n",
    "  \n",
    "  if n == 1:\n",
    "    return \"1\"\n",
    "\n",
    "  prev = countAndSay(n - 1)\n",
    "  result = \"\"\n",
    "  count = 1\n",
    "\n",
    "  for i in range(1, len(prev)):\n",
    "    if prev[i] == prev[i - 1]:\n",
    "      count += 1\n",
    "    else:\n",
    "      result += str(count) + prev[i - 1]\n",
    "      count = 1\n",
    "\n",
    "  result += str(count) + prev[-1]\n",
    "\n",
    "  return result\n",
    "\n",
    "n = 4\n",
    "result = countAndSay(n)\n",
    "print(result)  "
   ]
  },
  {
   "cell_type": "markdown",
   "id": "a45a7701",
   "metadata": {},
   "source": [
    "# 10. Given two strings s and t, return the minimum window in s which will contain all the characters in t.\n",
    "   - Input: s = \"ADOBECODEBANC\", t = \"ABC\"\n"
   ]
  },
  {
   "cell_type": "code",
   "execution_count": 32,
   "id": "856364f9",
   "metadata": {},
   "outputs": [
    {
     "name": "stdout",
     "output_type": "stream",
     "text": [
      "BANC\n"
     ]
    }
   ],
   "source": [
    "from collections import Counter\n",
    "\n",
    "def minWindow(s, t):\n",
    "  \n",
    "\n",
    "  \n",
    "  t_count = Counter(t)\n",
    "\n",
    "  \n",
    "  start = 0\n",
    "  end = 0\n",
    "  min_len = len(s) + 1\n",
    "  count = 0\n",
    "\n",
    "  \n",
    "  while end < len(s):\n",
    "    \n",
    "    if t_count[s[end]] > 0:\n",
    "      count += 1\n",
    "    t_count[s[end]] -= 1\n",
    "\n",
    "    \n",
    "    if count == len(t):\n",
    "      \n",
    "      while start < end and t_count[s[start]] < 0:\n",
    "        t_count[s[start]] += 1\n",
    "        start += 1\n",
    "\n",
    "      \n",
    "      window_size = end - start + 1\n",
    "      if window_size < min_len:\n",
    "        min_len = window_size\n",
    "        min_start = start\n",
    "\n",
    "    \n",
    "    end += 1\n",
    "\n",
    "  \n",
    "  if min_len <= len(s):\n",
    "    return s[min_start:min_start + min_len]\n",
    "  else:\n",
    "    return \"\"\n",
    "\n",
    "\n",
    "s = \"ADOBECODEBANC\"\n",
    "t = \"ABC\"\n",
    "result = minWindow(s, t)\n",
    "print(result)  "
   ]
  },
  {
   "cell_type": "markdown",
   "id": "749a114d",
   "metadata": {},
   "source": [
    "# 11. Given a string, find the length of the longest substring without repeating characters.\n",
    "   - Input: \"abcabcbb\"\n"
   ]
  },
  {
   "cell_type": "code",
   "execution_count": 33,
   "id": "e4353ff0",
   "metadata": {},
   "outputs": [
    {
     "name": "stdout",
     "output_type": "stream",
     "text": [
      "3\n"
     ]
    }
   ],
   "source": [
    "def lengthOfLongestSubstring(s):\n",
    "\n",
    "  char_index = {}\n",
    "  start = 0\n",
    "  max_length = 0\n",
    "\n",
    "  for end in range(len(s)):\n",
    "    if s[end] in char_index and char_index[s[end]] >= start:\n",
    "      start = char_index[s[end]] + 1\n",
    "    char_index[s[end]] = end\n",
    "    max_length = max(max_length, end - start + 1)\n",
    "\n",
    "  return max_length\n",
    "\n",
    "\n",
    "s = \"abcabcbb\"\n",
    "result = lengthOfLongestSubstring(s)\n",
    "print(result)  "
   ]
  },
  {
   "cell_type": "markdown",
   "id": "05df5c59",
   "metadata": {},
   "source": [
    "# 12. Given three strings s1, s2, and s3, determine if s3 is formed by the interleaving of s1 and s2.\n",
    "   - Input: s1 = \"aabcc\", s2 = \"dbbca\", s3 = \"aadbbcbcac\"\n"
   ]
  },
  {
   "cell_type": "code",
   "execution_count": 34,
   "id": "e8092ea1",
   "metadata": {},
   "outputs": [
    {
     "name": "stdout",
     "output_type": "stream",
     "text": [
      "True\n"
     ]
    }
   ],
   "source": [
    "def isInterleave(s1, s2, s3):\n",
    "  \n",
    "  if len(s3) != len(s1) + len(s2):\n",
    "    return False\n",
    "\n",
    "  dp = [[False] * (len(s2) + 1) for _ in range(len(s1) + 1)]\n",
    "\n",
    "\n",
    "  dp[0][0] = True\n",
    "  for i in range(1, len(s1) + 1):\n",
    "    dp[i][0] = dp[i - 1][0] and s1[i - 1] == s3[i - 1]\n",
    "  for j in range(1, len(s2) + 1):\n",
    "    dp[0][j] = dp[0][j - 1] and s2[j - 1] == s3[j - 1]\n",
    "\n",
    "  for i in range(1, len(s1) + 1):\n",
    "    for j in range(1, len(s2) + 1):\n",
    "      dp[i][j] = (dp[i - 1][j] and s1[i - 1] == s3[i + j - 1]) or \\\n",
    "                 (dp[i][j - 1] and s2[j - 1] == s3[i + j - 1])\n",
    "\n",
    "  \n",
    "  return dp[len(s1)][len(s2)]\n",
    "\n",
    "\n",
    "s1 = \"aabcc\"\n",
    "s2 = \"dbbca\"\n",
    "s3 = \"aadbbcbcac\"\n",
    "result = isInterleave(s1, s2, s3)\n",
    "print(result)  "
   ]
  },
  {
   "cell_type": "markdown",
   "id": "012969e7",
   "metadata": {},
   "source": [
    "# 13. Write a function to convert a Roman numeral to an integer.\n",
    "   - Input: \"MCMXCIV\"\n"
   ]
  },
  {
   "cell_type": "code",
   "execution_count": 35,
   "id": "78b2c4ff",
   "metadata": {},
   "outputs": [
    {
     "name": "stdout",
     "output_type": "stream",
     "text": [
      "1994\n"
     ]
    }
   ],
   "source": [
    "def romanToInt(s):\n",
    "\n",
    "\n",
    "  roman_map = {\n",
    "      'I': 1,\n",
    "      'V': 5,\n",
    "      'X': 10,\n",
    "      'L': 50,\n",
    "      'C': 100,\n",
    "      'D': 500,\n",
    "      'M': 1000\n",
    "  }\n",
    "\n",
    "  result = 0\n",
    "  prev_value = 0\n",
    "\n",
    "  for char in s:\n",
    "    value = roman_map[char]\n",
    "\n",
    "    if value > prev_value:\n",
    "      result -= prev_value\n",
    "    else:\n",
    "      result += prev_value\n",
    "\n",
    "    prev_value = value\n",
    "\n",
    "  result += prev_value\n",
    "\n",
    "  return result\n",
    "\n",
    "\n",
    "s = \"MCMXCIV\"\n",
    "integer_value = romanToInt(s)\n",
    "print(integer_value)  "
   ]
  },
  {
   "cell_type": "markdown",
   "id": "47aad59d",
   "metadata": {},
   "source": [
    "# 14. Find the longest common substring between two strings.\n",
    "   - Input: str1 = \"ABABC\", str2 = \"BABCA\"\n"
   ]
  },
  {
   "cell_type": "code",
   "execution_count": 36,
   "id": "1ea94383",
   "metadata": {},
   "outputs": [
    {
     "name": "stdout",
     "output_type": "stream",
     "text": [
      "BABC\n"
     ]
    }
   ],
   "source": [
    "def longestCommonSubstring(str1, str2):\n",
    "  \n",
    "  m = len(str1)\n",
    "  n = len(str2)\n",
    "\n",
    "  \n",
    "  dp = [[0] * (n + 1) for _ in range(m + 1)]\n",
    "\n",
    "\n",
    "  max_length = 0\n",
    "  max_end = 0\n",
    "  for i in range(1, m + 1):\n",
    "    for j in range(1, n + 1):\n",
    "      if str1[i - 1] == str2[j - 1]:\n",
    "        dp[i][j] = dp[i - 1][j - 1] + 1\n",
    "        if dp[i][j] > max_length:\n",
    "          max_length = dp[i][j]\n",
    "          max_end = i\n",
    "      else:\n",
    "        dp[i][j] = 0\n",
    "\n",
    "  \n",
    "  start = max_end - max_length\n",
    "\n",
    "  \n",
    "  return str1[start:max_end]\n",
    "\n",
    "str1 = \"ABABC\"\n",
    "str2 = \"BABCA\"\n",
    "result = longestCommonSubstring(str1, str2)\n",
    "print(result)  "
   ]
  },
  {
   "cell_type": "markdown",
   "id": "ca11a04b",
   "metadata": {},
   "source": [
    "# 15. Given a string s and a dictionary of words, check if s can be segmented into a space-separated sequence of one or more dictionary words.\n",
    "   - Input: s = \"leetcode\", wordDict = [\"leet\", \"code\"]\n"
   ]
  },
  {
   "cell_type": "code",
   "execution_count": 37,
   "id": "9fb46830",
   "metadata": {},
   "outputs": [
    {
     "name": "stdout",
     "output_type": "stream",
     "text": [
      "True\n"
     ]
    }
   ],
   "source": [
    "def word_break(s, word_dict):\n",
    "  \n",
    "\n",
    "  dp = [False] * (len(s) + 1)\n",
    "  dp[0] = True  \n",
    "\n",
    "  for i in range(1, len(s) + 1):\n",
    "    for j in range(i):\n",
    "      if dp[j] and s[j:i] in word_dict:\n",
    "        dp[i] = True\n",
    "        break\n",
    "\n",
    "  return dp[-1]\n",
    "\n",
    "\n",
    "s = \"leetcode\"\n",
    "word_dict = [\"leet\", \"code\"]\n",
    "result = word_break(s, word_dict)\n",
    "print(result)  \n"
   ]
  },
  {
   "cell_type": "markdown",
   "id": "a7d6bd05",
   "metadata": {},
   "source": [
    "# 16. Remove the minimum number of invalid parentheses to make the input string valid. Return all possible results.\n",
    "   - Input: \"()())()\"\n"
   ]
  },
  {
   "cell_type": "code",
   "execution_count": 38,
   "id": "7c98aa9c",
   "metadata": {},
   "outputs": [
    {
     "name": "stdout",
     "output_type": "stream",
     "text": [
      "[]\n"
     ]
    }
   ],
   "source": [
    "def removeInvalidParentheses(s):\n",
    "\n",
    "\n",
    "  def isValid(s):\n",
    "    count = 0\n",
    "    for char in s:\n",
    "      if char == '(':\n",
    "        count += 1\n",
    "      elif char == ')':\n",
    "        count -= 1\n",
    "        if count < 0:\n",
    "          return False\n",
    "    return count == 0\n",
    "\n",
    "  def dfs(s, start, count, left, right, res):\n",
    "    if count == 0 and isValid(s):\n",
    "      res.append(s)\n",
    "      return\n",
    "\n",
    "    for i in range(start, len(s)):\n",
    "      if s[i] == '(' and left > 0:\n",
    "        dfs(s[:i] + s[i + 1:], i, count, left - 1, right, res)\n",
    "      elif s[i] == ')' and right > 0:\n",
    "        dfs(s[:i] + s[i + 1:], i, count, left, right - 1, res)\n",
    "\n",
    "  left = right = 0\n",
    "  for char in s:\n",
    "    if char == '(':\n",
    "      left += 1\n",
    "    elif char == ')':\n",
    "      right += 1\n",
    "\n",
    "  res = []\n",
    "  dfs(s, 0, left - right, left, right, res)\n",
    "  return res\n",
    "\n",
    "\n",
    "s = \"()())()\"\n",
    "result = removeInvalidParentheses(s)\n",
    "print(result)"
   ]
  },
  {
   "cell_type": "code",
   "execution_count": null,
   "id": "62be361f",
   "metadata": {},
   "outputs": [],
   "source": []
  }
 ],
 "metadata": {
  "kernelspec": {
   "display_name": "Python 3 (ipykernel)",
   "language": "python",
   "name": "python3"
  },
  "language_info": {
   "codemirror_mode": {
    "name": "ipython",
    "version": 3
   },
   "file_extension": ".py",
   "mimetype": "text/x-python",
   "name": "python",
   "nbconvert_exporter": "python",
   "pygments_lexer": "ipython3",
   "version": "3.9.12"
  }
 },
 "nbformat": 4,
 "nbformat_minor": 5
}
